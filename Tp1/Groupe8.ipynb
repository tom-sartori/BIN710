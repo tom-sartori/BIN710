{
 "cells": [
  {
   "cell_type": "markdown",
   "metadata": {},
   "source": [
    "TP1 : Quantitative structure-activity relationship (QSAR) modeling"
   ]
  },
  {
   "cell_type": "markdown",
   "metadata": {},
   "source": [
    "Question 1: Visualisation des données\n",
    "\n",
    "1.1. Importation des librairies et des données"
   ]
  },
  {
   "cell_type": "code",
   "execution_count": 33,
   "metadata": {},
   "outputs": [],
   "source": [
    "import pandas as pd\n",
    "import openpyxl as pxl\n",
    "import numpy as np\n",
    "import matplotlib.pyplot as plt\n",
    "import seaborn as sns"
   ]
  },
  {
   "cell_type": "markdown",
   "metadata": {},
   "source": [
    "Analysons les données fournies pour ce TP."
   ]
  },
  {
   "cell_type": "code",
   "execution_count": 34,
   "metadata": {},
   "outputs": [
    {
     "name": "stdout",
     "output_type": "stream",
     "text": [
      "data\n",
      "SMILES      object\n",
      "Class       object\n",
      "apol       float64\n",
      "ASA+       float64\n",
      "ASA-       float64\n",
      "            ...   \n",
      "vsurf_R    float64\n",
      "vsurf_S    float64\n",
      "vsurf_V    float64\n",
      "Weight     float64\n",
      "zagreb       int64\n",
      "Length: 76, dtype: object\n",
      "Index(['SMILES', 'Class', 'apol', 'ASA+', 'ASA-', 'a_count', 'a_donacc',\n",
      "       'a_heavy', 'a_hyd', 'a_IC', 'a_nC', 'a_nCl', 'a_nF', 'a_nH', 'balabanJ',\n",
      "       'bpol', 'CASA+', 'CASA-', 'chi0', 'chi0v', 'chi0v_C', 'chi0_C', 'chi1',\n",
      "       'chi1v', 'chi1v_C', 'chi1_C', 'DASA', 'DCASA', 'dens', 'density',\n",
      "       'diameter', 'dipole', 'h_logP', 'h_logS', 'logP(o/w)', 'logS', 'mr',\n",
      "       'npr2', 'PC+', 'PC-', 'PEOE_VSA_NEG', 'PEOE_VSA_PNEG', 'PEOE_VSA_POL',\n",
      "       'PEOE_VSA_PPOS', 'petitjean', 'petitjeanSC', 'pmi', 'pmi2', 'pmi3',\n",
      "       'radius', 'rgyr', 'RPC-', 'rsynth', 'SlogP', 'SMR', 'std_dim1',\n",
      "       'std_dim2', 'std_dim3', 'TPSA', 'VAdjEq', 'VAdjMa', 'VDistEq',\n",
      "       'VDistMa', 'vdw_area', 'vdw_vol', 'vol', 'VSA', 'vsa_acc', 'vsa_hyd',\n",
      "       'vsa_pol', 'vsurf_A', 'vsurf_R', 'vsurf_S', 'vsurf_V', 'Weight',\n",
      "       'zagreb'],\n",
      "      dtype='object')\n",
      "(154, 76)\n",
      "SMILES     103\n",
      "Class        5\n",
      "apol        74\n",
      "ASA+       103\n",
      "ASA-       103\n",
      "          ... \n",
      "vsurf_R    104\n",
      "vsurf_S    103\n",
      "vsurf_V    103\n",
      "Weight      74\n",
      "zagreb      42\n",
      "Length: 76, dtype: int64\n",
      "Class\n",
      "Class -1    64\n",
      "Class 0     62\n",
      "Class 1     20\n",
      "Class -2     6\n",
      "Class 2      2\n",
      "Name: count, dtype: int64\n",
      "Class\n",
      "Class -1    0.415584\n",
      "Class 0     0.402597\n",
      "Class 1     0.129870\n",
      "Class -2    0.038961\n",
      "Class 2     0.012987\n",
      "Name: proportion, dtype: float64\n",
      "Axes(0.125,0.11;0.775x0.77)\n"
     ]
    },
    {
     "data": {
      "image/png": "[encoded data removed]",
      "text/plain": [
       "<Figure size 640x480 with 1 Axes>"
      ]
     },
     "metadata": {},
     "output_type": "display_data"
    }
   ],
   "source": [
    "#Analyse de chaque variable\n",
    "data=pxl.load_workbook('QSAR_dataset.xlsx')\n",
    "for sheet in data.sheetnames:\n",
    "    print(sheet)\n",
    "    df=pd.read_excel('QSAR_dataset.xlsx',sheet_name=sheet)\n",
    "    \n",
    "    print(df.dtypes)\n",
    "    print(df.columns)\n",
    "    print(df.shape)\n",
    "    print(df.nunique())\n",
    "    print(df['Class'].value_counts())\n",
    "    print(df['Class'].value_counts(normalize=True))\n",
    "    print(df['Class'].value_counts().plot(kind='bar'))\n",
    "    plt.show()\n",
    "    \n",
    "\n"
   ]
  },
  {
   "cell_type": "markdown",
   "metadata": {},
   "source": [
    "Prétraitement des données"
   ]
  },
  {
   "cell_type": "code",
   "execution_count": 35,
   "metadata": {},
   "outputs": [],
   "source": [
    "\n",
    "#Analyse de la corrélation entre les variables\n",
    "df=pd.read_excel('QSAR_dataset.xlsx',sheet_name=sheet)\n",
    "\n",
    "\n"
   ]
  }
 ],
 "metadata": {
  "kernelspec": {
   "display_name": "Python 3",
   "language": "python",
   "name": "python3"
  },
  "language_info": {
   "codemirror_mode": {
    "name": "ipython",
    "version": 3
   },
   "file_extension": ".py",
   "mimetype": "text/x-python",
   "name": "python",
   "nbconvert_exporter": "python",
   "pygments_lexer": "ipython3",
   "version": "3.10.4"
  }
 },
 "nbformat": 4,
 "nbformat_minor": 2
}

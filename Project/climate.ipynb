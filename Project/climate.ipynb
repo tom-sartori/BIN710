{
 "cells": [
  {
   "cell_type": "markdown",
   "metadata": {},
   "source": [
    "# Covid spread relation with climate"
   ]
  },
  {
   "cell_type": "markdown",
   "metadata": {},
   "source": [
    "In this notebook, we'll compare the spread of Covid-19 with the climate and the mean temperature of the countries. "
   ]
  },
  {
   "cell_type": "code",
   "execution_count": null,
   "metadata": {
    "vscode": {
     "languageId": "plaintext"
    }
   },
   "outputs": [],
   "source": [
    "import pandas as pd\n",
    "import matplotlib.pyplot as plt\n",
    "\n",
    "\n",
    "data_exp = pd.read_csv('data/data_spread_rate_exp.csv')\n",
    "data_time = pd.read_csv('data/data_spread_rate_time.csv')\n",
    "data_repr = pd.read_csv('data/data_spread_rate_reproduction.csv')\n",
    "\n",
    "data = data_repr"
   ]
  },
  {
   "cell_type": "markdown",
   "metadata": {},
   "source": [
    "## Spread rate vs. Koeppen-Geiger climate classification"
   ]
  },
  {
   "cell_type": "markdown",
   "metadata": {},
   "source": [
    "### Raw classification"
   ]
  },
  {
   "cell_type": "code",
   "execution_count": null,
   "metadata": {
    "vscode": {
     "languageId": "plaintext"
    }
   },
   "outputs": [],
   "source": [
    "plt.scatter(data['Spread rate'], data['Climate'], color='blue', alpha=0.5)\n",
    "plt.xlabel('Spread rate')\n",
    "plt.ylabel('Climate')\n",
    "plt.title('Spread rate vs Full climate classification')\n",
    "plt.show()"
   ]
  }
 ],
 "metadata": {
  "language_info": {
   "name": "python"
  }
 },
 "nbformat": 4,
 "nbformat_minor": 2
}
